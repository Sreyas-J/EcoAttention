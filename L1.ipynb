{
 "cells": [
  {
   "cell_type": "code",
   "execution_count": 1,
   "id": "edd31799",
   "metadata": {},
   "outputs": [
    {
     "name": "stdout",
     "output_type": "stream",
     "text": [
      "[[2.73977825 3.73977825 4.73977825]\n",
      " [4.         5.         6.        ]\n",
      " [5.26022175 6.26022175 7.26022175]]\n"
     ]
    }
   ],
   "source": [
    "import numpy as np\n",
    "\n",
    "def ecoformer_attention(Q, K, V, lam=1.0):\n",
    "    \"\"\"\n",
    "    EcoFormer-style L1-based attention.\n",
    "    \n",
    "    Args:\n",
    "        Q: Queries, shape (N, d_k)\n",
    "        K: Keys, shape (N, d_k)\n",
    "        V: Values, shape (N, d_v)\n",
    "        lam: lambda parameter controlling sharpness of the kernel\n",
    "\n",
    "    Returns:\n",
    "        O: Output context vectors, shape (N, d_v)\n",
    "    \"\"\"\n",
    "    N, d_k = Q.shape\n",
    "    scale = lam / np.sqrt(d_k)\n",
    "    O = np.zeros((N, V.shape[1]))\n",
    "\n",
    "    for i in range(N):\n",
    "        # Compute L1 distances between Q[i] and all K\n",
    "        D = np.abs(K - Q[i])  # shape (N, d_k)\n",
    "        dist = np.sum(D, axis=1)  # shape (N,)\n",
    "\n",
    "        # Compute attention weights using Laplacian kernel\n",
    "        weights = np.exp(-scale * dist)  # shape (N,)\n",
    "        weights /= np.sum(weights)  # normalize\n",
    "\n",
    "        # Weighted sum over values\n",
    "        O[i] = weights @ V  # shape (d_v,)\n",
    "\n",
    "    return O\n",
    "\n",
    "\n",
    "# Toy input\n",
    "Q = np.array([[1, 0, 0],\n",
    "              [0, 1, 0],\n",
    "              [0, 0, 1]], dtype=float)\n",
    "# K = np.array([[1.0, 2.0], [1.5, 2.5]])\n",
    "# V = np.array([[10.0, 20.0], [30.0, 40.0]])\n",
    "K = Q.copy()\n",
    "V = np.array([[1, 2, 3],\n",
    "              [4, 5, 6],\n",
    "              [7, 8, 9]], dtype=float)\n",
    "\n",
    "O = ecoformer_attention(Q, K, V, lam=1.0)\n",
    "print(O)"
   ]
  }
 ],
 "metadata": {
  "kernelspec": {
   "display_name": "TransformerAcc",
   "language": "python",
   "name": "python3"
  },
  "language_info": {
   "codemirror_mode": {
    "name": "ipython",
    "version": 3
   },
   "file_extension": ".py",
   "mimetype": "text/x-python",
   "name": "python",
   "nbconvert_exporter": "python",
   "pygments_lexer": "ipython3",
   "version": "3.13.5"
  }
 },
 "nbformat": 4,
 "nbformat_minor": 5
}
